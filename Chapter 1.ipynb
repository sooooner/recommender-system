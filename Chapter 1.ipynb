{
 "cells": [
  {
   "cell_type": "markdown",
   "metadata": {},
   "source": [
    "# Recommender System: The Textbook"
   ]
  },
  {
   "cell_type": "markdown",
   "metadata": {},
   "source": [
    "## An Introduction to Recommneder Systems"
   ]
  },
  {
   "cell_type": "markdown",
   "metadata": {},
   "source": [
    "### Introduction\n",
    "\n",
    "이 책은 Collaborative, Content-based, Knowledge-based systems 를 포함한 기본 시스템에 대하여 공부합니다. 이번 챕터에서는 추천시스템들의 예시와 간단한 설명으로 이루어 집니다. 자세한 설명은 이후 탭터로 이어집니다."
   ]
  },
  {
   "cell_type": "markdown",
   "metadata": {},
   "source": [
    "### Goals of Recommender Systems\n",
    "\n",
    "추천 시스템에는 크게 두가지의 주요 모델이 있습니다.\n",
    "1. Prediction version of problems \n",
    "  + 문제에 대한 예측모델입니다. 추천 시스템에서 problem이란 등급, 클릭확률, 구매확률등등 이 있습니다.\n",
    "  + 주어진 행렬에 대한 빈칸을 채우는 행렬 완성 문제라고도 합니다.\n",
    "2. Ranking version of problems\n",
    "  + Top-K ranking을 제공하는 모델입니다. \n",
    "  + 위의 Prediction과는 다르게 정확한 확률값보다 정렬하는데 초첨을 맞춤니다.\n",
    "\n",
    "1번의 경우는 사업자에게 2번의 경우는 사용자에게 인사이트를 제공해줄수 있습니다. 하지만 결국 많이 파는것이 목표랍니다 ㅡㅡ\n",
    "\n",
    "위 두가지 모델의 목적을 달성하기 위하여 고려하여야 하는 operational및 technical은 다음과 같습니다.\n",
    "1. Relevance : 추천 시스템의 가장 분명한 목표는 관련성입니다. \n",
    "2. Novelty : 새로운것을 추천해주는 것은 소비자에게 다음 구매로 이어지도록 만듭니다.\n",
    "3. Serendipity(?) : 완전한 우연으로부터 중대한 발견이나 발명이 이루어지는 것 이라고 하네요\n",
    "  + 위의 Novelty는 관련된 것들중 새로운 것을 추천해주는 것이고 Serendipity는 관련 없는것을 추천해 줄수도 있다고 합니다.\n",
    "  + 관련성이 가장 강조되는 목표이지만 우연한 추천도 장기적인 관점에서 단점보다 이점이 많다고 합니다.\n",
    "4. Increasing recommendation diversity : Novelty처럼 추천 다양성이 중요한건 당연한 이야기 입니다.\n",
    "  + 그런의미에서 Top-K 추천은 실패확률이 적다고 하네요...\n",
    "  \n",
    "위의 운영과 기술은 관점에 따라 긍정적인 효과를 줍니다. 사용자 관점에서 추천은 전반적인 만족도를 향상시키고 서비스 재 방문으로 이어집니다. 사업자 관점에서는 사용자의 요구에 대한 인사이트를 얻을 수 있습니다."
   ]
  },
  {
   "cell_type": "markdown",
   "metadata": {},
   "source": [
    "다양한 추천 방법에 대한 예시입니다.\n",
    "\n",
    "**GroupLens Recommender System** : 독자에게 뉴스를 추천해주는 서비스 입니다. Collaborative Filtering 방법의 초기 모델이 여기서 개발 되었습니다. 이후 BookLens, MovieLens로 확장했습니다.  \n",
    "**Amazon.com Recommender System** : 아마존은 구매, 등급, 브라우징 데이터를 활용한 추천시스템의 선구자 입니다.  \n",
    "이 외에 **Netflix Movie Recommender System**, **Google News Personalization System**, **Facebook Friend Recommender** 예시가 있습니다."
   ]
  },
  {
   "cell_type": "markdown",
   "metadata": {},
   "source": [
    "### Basic Models of Recommender System\n",
    "\n",
    "추천시스템의 기본 모델은 두가지 종류의 데이터를 활용합니다.\n",
    "1. user-item 상호작용 데이터(등급, 구매, 클릭, 등등)\n",
    "2. 텍스트 데이터(프로필, 관련 키워드, 속성 정보, 등등)\n",
    "\n",
    "상호작용 데이터를 활용하는 모델을 CF(Collaborative Filtering) model이라고 합니다.\n",
    "텍스트 데이터를 사요하는 모델은 Contents-based model이라고 합니다(Contents-based model도 rating을 사용하긴 하지만 **단일 사용자**의 rating에 중점을 둡니다.)\n",
    "Knowlege-based model에서 추천은 사용자가 지정하는 명시적 요구사항을 기반으로 합니다. 이는 등급, 구매 기록 이외에 외부 지식이 필요합니다."
   ]
  },
  {
   "cell_type": "markdown",
   "metadata": {},
   "source": [
    "#### Collaborative filtering Models\n",
    "\n",
    "rating을 사용하는 대표적인 방법입니다. 기본 아이디어는 사용자가 매긴 등급은 user-item의 높은 상관관계가 있다는것에서 출발합니다. 즉 CF는 예측을 위하여 user-item 상관/상호 관계를 활용하는데 중점을 둡니다.\n",
    "\n",
    "CF의 두가지 모델은 다음과 같습니다.\n",
    "1. Memoty based model(neighborhoodbased collaborative filtering algorithms이라고도 합니다.)\n",
    "  + 최초의 CF모델이며 similarity measure를 통해 가장 가까운 이웃으로 등급을 예측합니다.\n",
    "  + 다음 두 가지 방법으로 다시 분류 됩니다.\n",
    "    1. User-based collaborative filtering : 비슷한 사용자를 찾아서 대상 사용자에게 비슷한 사용자의 등급을 추천해줍니다.\n",
    "    2. Item-based collaborative filtering : 비슷한 항목을 찾아서 대상 사용자가 좋아했던 항목과 비슷한 항목을 추천해줍니다.\n",
    "  + 장점은 간단하고 결과를 설명 가능합니다.\n",
    "  + 단점은 등급 행렬이 희소한 경우에 성능이 급격히 감소합니다.\n",
    "2. Model-based methods\n",
    "  + decision trees, rule-based models, Bayesian methods, latent factor models등을 사용하여 예측합니다.\n",
    "  + 이중 latent factor models가 가장 잘 작동한다고 합니다.\n",
    "  + 장점은 기존 ML 방법들의 적용으로 단순합니다\n",
    "  + 단점은 본질적으로 휴리스틱한 경향이 있습니다. 이후 챕터에서 자세히 설명됩니다."
   ]
  },
  {
   "cell_type": "markdown",
   "metadata": {},
   "source": [
    "##### Types of Ratings\n",
    "\n",
    "추천 시스템의 설계는 설계된 등급 시스템에 영향을 많이 받습니다.  \n",
    "등급 시스템의 종류는 continuos, 이진(0, 1), 다항(1, 2, 3, 4, 5), 단항(1 or X)등등이 있습니다.  \n",
    "설계된 등급에 따라 결과가 매우 달라지기 때문에 데이터에 대한 이해도가 중요합니다. 아래 그림은 데이터에 따라 다른 결과를 내는 예시 입니다."
   ]
  },
  {
   "attachments": {},
   "cell_type": "markdown",
   "metadata": {},
   "source": [
    "![fig1_3](./img/chapter1/fig1_3.png)\n",
    "\n",
    "각 데이터는 영화에 대하여 사용자가 매긴 등급(a)과 사용자가 시청한 기록(b)입니다.  \n",
    "(a)에서 사용자 U1과 U3는 GLADITOR와 GOODFELLAS에 상반된 등급을 주었기 때문에 유사하지 않습니다.  \n",
    "(b)에서 사용자 U1과 U3는 GLADITOR와 GOODFELLAS를 중복되게 시청하였기 때문에 유사하다고 판단됩니다.  \n",
    "각 데이터는 추천 시스템에서 중요한  **Explixit, Implicit feedback** 데이터 개념입니다. 이후 자세한 설명이 있지만 간단히 서술하고 지나가겠습니다."
   ]
  },
  {
   "cell_type": "markdown",
   "metadata": {},
   "source": [
    "**Explixit and Implicit Ratings**  \n",
    "두 feedback데이터에 따라 전처리, 모델 설계가 상당히 달라집니다.   \n",
    "**Explixit feedback**은 사용자의 선호도를 명확히 보여주는 것으로 사용자가 영화에 매긴 점수가 가장 대표 예시 입니다.(위 그림에서 (a)에 해당합니다) 사용자 A가 아이언맨과 스파이더맨에 5점을 주었고 노팅힐, 어바웃타임에 2점을 주었다면 사용자 A의 영화 선호도를 명확히 알 수 있습니다. Explixit에서는 missing value에 대한 처리를 하지 않습니다. 자세한건 추후 설명되나 간단히 편향 발생이 심하기 때문이라고 합니다.  \n",
    "**Implicit feedback**은 사용자의 선호도를 암시적으로 보여주는 것으로 사용자가 클릭한 품목, 구매한 품목등이 대표적인 예시 입니다.(위 그림에서 (b)에 해당합니다.) 사용자 A가 쇼핑몰에서 i, j, k 품목을 보았다고 해서 i, j, k 품목들을 좋아한다고 확신할 수 없습니다. Implicit에서는 missing value에 대한 처리가 존재합니다. 이 처리는 도메인에 따라 다릅니다."
   ]
  },
  {
   "cell_type": "markdown",
   "metadata": {},
   "source": [
    "##### Relationship with Missing Value Analysis\n",
    "\n",
    "CF model은 결측치 분석과 밀접한 관계에 있습니다. 추천시스템에서 사용되는 등급 행렬 R은 대부분 상당히 희소한 데이터이며 이를 채워서 사용자에게 추천하는 것이 CF model입니다. 즉 결측치에 대한 분석으로도 바라 볼 수 있습니ㅏㄷ."
   ]
  },
  {
   "attachments": {},
   "cell_type": "markdown",
   "metadata": {},
   "source": [
    "##### Collaborative Filtering as a Generalization of Classification and Regression Modeling\n",
    "\n",
    "CF는 종속변수가 결측치, 독립변수가 관찰된 등급인 Classification과 Regression Modeling의 일반화로도 볼 수 있습니다.  \n",
    "차이점은 종속변수가 명확하지 않다는 것입니다. 아래 그림을 보면 한번에 이해가 됩니다!\n",
    "\n",
    "![fig1_4](./img/chapter1/fig1_4.png)"
   ]
  },
  {
   "cell_type": "markdown",
   "metadata": {},
   "source": [
    "#### Content-Based Recommender Systems\n",
    "\n",
    "Content-Based는 CF와 다르게 다른 사용자의 정보를 몰라도 item의 속성으로 추천이 가능한 방법입니다. 예를들어 터미네이터를 좋아하는 사용자에게 트렌스포머를 추천하는 방법입니다. 이러한 방법은 새로운 item이 왔을때 이점이 있습니다. 단점은 사용자의 과거 행동을 기반으로 추천하기 때문에 새로운 영역의 추천을 하지 못합니다. 즉, 다양성이 떨어 집니다. 또한 새로운 사용자는 과거 기록이 없기 때문에 효과가 떨어집니다. 하지만 이는 사용자가 프로필 작성을 하면 상쇄가능합니다."
   ]
  },
  {
   "cell_type": "markdown",
   "metadata": {},
   "source": [
    "#### Knowledge-Based Recommender Systems\n",
    "\n",
    "지식 기반은 자주 구매하지 않은 분야에 매우 유용합니다. 특히 부동산, 자동차, 사치품처럼 등급 데이터가 별로 없고 세부사항(옵션)이 매우 많은 경우에 유용합니다. 이는 매우 많은 조합과 부족한 등급을 연관 시키기 매우 어렵기 때문입니다.  \n",
    "이를 위해 지식 기반 방식은 사용자의 요구사항(제약조건)과 항목에 대한 설명을 연관시켜 추천을 진행 합니다. 이러한 진행 방식은 두가지가 있습니다.\n",
    "1. Constraint-based recommender systems : 사용자에게 요구사항을 지정하도록 하는 방법입니다. 이 방법은 사용자가 요구사항을 수정할 수 있다는 장점이 있습니다. 예를들어 사용자가 3000\\~4000만원 사이의 현대차를 요구 한뒤 추천되는 차를 보고 마음에 들지 않는다면 3000\\~5000만원 사이의 차를 보여달라고 할 수 있습니다.\n",
    "2. Case-based recommender systems : 사용자에게 특정 사례를 지정하도록 하는 방법 입니다. 이 방법 또한 요구사항을 수정할 수 있습니다. 예를들어 사용자가 3000만원, 블랙박스, 네비, 현대, 선루프, 중형차를 용구하면 그에 따른 사례를 추천해줍니다.\n",
    "\n",
    "위 두 방법 모두 요구사항을 수정할 수 있지만 방식이 다릅니다. 자세한 방식은 이후 챕터에서 설명 됩니다.\n",
    "\n",
    "지식 기반 방식과 콘텐츠 기반 방식 모두 item의 속성에 의존하여 추천을 합니다. 즉, 단점이 같습니다. 주요 차이점은 사용자의 과거 행동 학습에 있습니다. 이 역시 자세한 내용은 이후 챕터에서 설명됩니다."
   ]
  },
  {
   "cell_type": "markdown",
   "metadata": {},
   "source": [
    "##### Utility-Based Recommender Systems\n",
    "\n",
    "유틸리티 기반 추천 시스템은 사용자가 좋아할 확률을 계산 하기 위해 유틸리티 함수를 정의 하는 방식입니다. \n",
    "CF, contents, Knowledge 기반에 관계없이 모든 추천 시스템은 사용자에 대하여 **가치**를 기반으로 추천 항목의 순위를 암시적으로 지정합니다. 유틸리티 기반에서 유틸리티 값은 사전에 알려진 기능을 기반으로 합니다. 즉, 외부 지식이 작용하고 이는 지식 기반으로 볼 수 있습니다."
   ]
  },
  {
   "cell_type": "markdown",
   "metadata": {},
   "source": [
    "#### Demographic Recommender Systems\n",
    "\n",
    "인구 통계학적 추천 시스템은 특정 인구 통계를 평가 또는 구매 성향으로 맵핑하는 **분류자**를 학습합니다. "
   ]
  },
  {
   "cell_type": "markdown",
   "metadata": {},
   "source": [
    "####  Hybrid and Ensemble-Based Recommender Systems\n",
    "\n",
    "위에 서술한 방법들은 서로 다른 입력을 확용합니다. 즉 장단점이 서로 다른데, 이를 적절히 섞은 방식이 하이브리드 또는 앙상블 방법입니다."
   ]
  },
  {
   "cell_type": "markdown",
   "metadata": {},
   "source": [
    "#### Evaluation of Recommender Systems\n",
    "\n",
    "추천 시스템은 분류, 회귀와 개념적 유사성을 공유하므로(missing value 예측) 평가 메트릭도 비슷할 수 있습니다. 자세한건 7장으로 이어 집니다."
   ]
  },
  {
   "attachments": {
    "image.png": {
     "image/png": "[encoded data removed]"
    }
   },
   "cell_type": "markdown",
   "metadata": {},
   "source": [
    "![image.png](attachment:image.png)"
   ]
  },
  {
   "cell_type": "markdown",
   "metadata": {},
   "source": [
    "### Domain-Specific Challenges in Recommender Systems\n",
    "\n",
    "특정 task의 추천 유형에 대한 서술이 이어집니다. 간단히 적고 지나가겠습니다."
   ]
  },
  {
   "cell_type": "markdown",
   "metadata": {},
   "source": [
    "#### Context-Based Recommender Systems\n",
    "\n",
    "상황 기반 추천 유형입니다. 시간, 위치, 유행등등 상황 정보를 사용하면 성능이 높아집니다."
   ]
  },
  {
   "cell_type": "markdown",
   "metadata": {},
   "source": [
    "#### Time-Sensitive Recommender Systems\n",
    "\n",
    "시간에 따른 변화는 중요하게 작용합니다. 영화에 대한 평점 또는 패션 스타일 유행이 대표적인 예시 입니다. 이는 여러 방식으로 반영 가능합니다. 대표적으로\n",
    "1. 커뮤니티 관심사, 취향 : 이는 CF에서 시간을 명시적으로 매개변수화가 가능합니다.\n",
    "2. rating이 시간, 요일, 계절에 따라 달라지는 항목 : 컨텍스트 기반 추천시스템의 특이 케이스 입니다. 예시로 여름에 겨울옷, 건기에 우비등등 이 있습니다.\n",
    "  + 시간적 추천 시스템은 데이터가 더욱 희소하기 때문에 도전적인 과제 입니다. \n",
    "  + \n",
    "들이 있습니다."
   ]
  },
  {
   "cell_type": "markdown",
   "metadata": {},
   "source": [
    "#### Location-Based Recommender Systems\n",
    "\n",
    "위치 기반은 두가지 특징이 있습니다.\n",
    "1. 사용자의 지역 : NY와 위스콘신의 사용자는 동일한 영화에 대하여 다른 선호도를 가질수 있다고 합니다.\n",
    "2. 항목의 지역 : 서울에 사는 권순호에게 부산에 있는 식당을 추천해주면 안됩니다!\n",
    "3. 지역에 관련하여 선호지역(상황)과 여행지역(휴리스틱 영역)은 상당히 다르다고 합니다"
   ]
  },
  {
   "cell_type": "markdown",
   "metadata": {},
   "source": [
    "#### Social Recommender Systems\n",
    "\n",
    "네트워크 구조를 기반으로 합니다. "
   ]
  },
  {
   "cell_type": "markdown",
   "metadata": {},
   "source": [
    "### Advanced Topics and Applications"
   ]
  },
  {
   "cell_type": "markdown",
   "metadata": {},
   "source": [
    "#### The Cold-Start Problem in Recommender Systems\n",
    "\n",
    "콜드 스타트 문제는 추천시스템을 처음 적용할때 정보가 부족하여 성능이 매우 낮은 문제 입니다. \n",
    "특히 CF 방법의 적용이 어렵습니다. 이는 콘텐츠, 지식 기반 방식이 강력하긴 하지만 범용성이 떨어 집니다."
   ]
  },
  {
   "cell_type": "markdown",
   "metadata": {},
   "source": [
    "####  Attack-Resistant Recommender Systems\n",
    "\n",
    "경쟁사의 평점을 악의적으로 낮추는 주작충들이 문제입니다!"
   ]
  },
  {
   "cell_type": "markdown",
   "metadata": {},
   "source": [
    "#### Group Recommender Systems\n",
    "\n",
    "개인말고 그룹에 대한 추천도 있습니다. 단체 관광객 여행 추천, 헬스장 노래 추천 등등이 있습니다. 13.4장에 자세히 설명 됩니다."
   ]
  },
  {
   "cell_type": "markdown",
   "metadata": {},
   "source": [
    "#### Multi-Criteria Recommender Systems\n",
    "\n",
    "다중 기준 시스템에서 등급은 단일 사용자의 다른 기준에 따라 지정 될 수 있습니다. 예를 들어 사용자는 음악, 특수 효과 등에 따라 영화를 평가할 수 있습니다. "
   ]
  },
  {
   "cell_type": "markdown",
   "metadata": {},
   "source": [
    "#### Active Learning in Recommender Systems\n",
    "\n",
    "충분한양의 등급을 획득하는것은 추천시스템의 주요 과제중 하나입니다. 데이터의 희소성이 낮으면 낮을수록 성능이 좋아지는 것은 너무나도 명확하기에 좋은 데이터를 얻기위하여 노력하여야 합니다. 등급을 매기면 포인트를 주던가 하랍니다..."
   ]
  },
  {
   "cell_type": "markdown",
   "metadata": {},
   "source": [
    "#### Privacy in Recommender Systems\n",
    "\n",
    "feedback은 관심사에 대하여 매우 중요한 정보입니다. 하지만 이는 때때로 정치적, 성적, 개인적인 정보를 포함하기에 데이터 공개의 어려움이 있습니다. 이는 추천시스템 전반에 걸친 발전 속도를 저하 시킵니다."
   ]
  },
  {
   "cell_type": "markdown",
   "metadata": {},
   "source": [
    "####  Application Domains\n",
    "\n",
    "13장에 적용 분야 설명한답니다."
   ]
  },
  {
   "cell_type": "markdown",
   "metadata": {},
   "source": [
    "### Summary\n",
    "\n",
    "다양한 모델들과 사례들을 살펴보았습니다. 이후 챕터에서 더 자세하게 설명 됩니다."
   ]
  },
  {
   "cell_type": "markdown",
   "metadata": {},
   "source": [
    "###  Exercises\n",
    "\n",
    "연습 문제입니다. 이는 저의 풀이를 적도록 노력해보았습니다. 틀린부분이 있다면 저에게 Explicit feedback을 주신하면 감사하겠습니다!\n",
    "\n",
    "1. Explain why unary ratings are significantly different from other types of ratings in the design of recommender systems.\n",
    "\n",
    ">단항 등급의 신호는 \"관심사\"를 표하지만 \"선호\"를 나타내지 못합니다. 즉, 관심이 있어 구매를 했지만 만족 하는지는 모릅니다.\n",
    "\n",
    "2. Discuss cases in which content-based recommendations will not perform as well as ratings-based collaborative filtering.\n",
    "\n",
    "> 1. 다양성이 떨어 집니다. 행동했던 과거 행적 데이터를 기반으로 하기 때문에 이요했던 항목과 유사한 항목만을 추천해줄 수 있습니다.\n",
    "2. 새로운 사용자에 대한 정보가 없습니다. 이는 1번과 비슷한 이유이지만 사용자가 프로필을 작성한다면 완화 될 수 있습니다.\n",
    "\n",
    "3. Suppose you set up a system, where a guided visual interface is used in order to determine the product of interest to a customer. What category of recommender system does this case fall into?\n",
    "\n",
    "> 안내한다는 것 자체가 이미 도메인 지식이 작용하는 것이므로 지식 기반 모델입니다.\n",
    "\n",
    "4. Discuss a scenario in which location plays an important role in the recommendation process.\n",
    "\n",
    "> 1. user - 사는 지역의 특성이 반영됩니다. -> 한국과 미국에 같은 음식을 추천해주면 안됩니다.\n",
    "2. item - 멀리 있는 곳보다 가까운곳이 중요합니다. -> 서울에 사는 순호에게 부산에서 점심을 먹으라고 하면 안됩니다.\n",
    "3. 여행 - 이는 휴리스틱 성향이 강한 도메인 입니다. 지식 기반 모델을 활용하여 추천을 진행하여야 합니다.\n",
    "\n",
    "5. The chapter mentions the fact that collaborative filtering can be viewed as a generalization of the classification problem. Discuss a simple method to generalize classification algorithms to collaborative filtering. Explain why it is difficult to use such methods in the context of sparse ratings matrices.\n",
    "\n",
    "> Missing value(target)을 predict 한다는 관점에서 일반화 될 수 있습니다. 가장 간단한 방법으로는 naive bayes 분류가 있습니다. 이는 새로운 인스턴스에 쉽게 적용할수 있습니다. 하지만 target이 명확하지 않다는 점에서 CF에 바로 적용하는 것은 문제가 있습니다. 분류 문제에서 훈련시 사용하지 못한 feature는 예측에 도움을 주지 못합니다. 이는 자연스럽게 성능 저하로 이어집니다.\n",
    "\n",
    "6. Suppose that you had a recommender system that could predict raw ratings. How would you use it to design a top-k recommender system? Discuss the computational complexity of such a system in terms of the number of applications of the base prediction algorithm. Under what circumstances would such an approach become impractical?\n",
    "\n",
    "> raw ratings이 예측 가능하다면 간단히 ratings순으로 정렬하는것이 좋아 보입니다. 이 다음 질문은 어렵네요..."
   ]
  }
 ],
 "metadata": {
  "kernelspec": {
   "display_name": "Python 3",
   "language": "python",
   "name": "python3"
  },
  "language_info": {
   "codemirror_mode": {
    "name": "ipython",
    "version": 3
   },
   "file_extension": ".py",
   "mimetype": "text/x-python",
   "name": "python",
   "nbconvert_exporter": "python",
   "pygments_lexer": "ipython3",
   "version": "3.7.6"
  },
  "toc": {
   "base_numbering": 1,
   "nav_menu": {},
   "number_sections": true,
   "sideBar": true,
   "skip_h1_title": true,
   "title_cell": "Table of Contents",
   "title_sidebar": "Contents",
   "toc_cell": false,
   "toc_position": {
    "height": "calc(100% - 180px)",
    "left": "10px",
    "top": "150px",
    "width": "283.188px"
   },
   "toc_section_display": true,
   "toc_window_display": true
  },
  "varInspector": {
   "cols": {
    "lenName": 16,
    "lenType": 16,
    "lenVar": 40
   },
   "kernels_config": {
    "python": {
     "delete_cmd_postfix": "",
     "delete_cmd_prefix": "del ",
     "library": "var_list.py",
     "varRefreshCmd": "print(var_dic_list())"
    },
    "r": {
     "delete_cmd_postfix": ") ",
     "delete_cmd_prefix": "rm(",
     "library": "var_list.r",
     "varRefreshCmd": "cat(var_dic_list()) "
    }
   },
   "types_to_exclude": [
    "module",
    "function",
    "builtin_function_or_method",
    "instance",
    "_Feature"
   ],
   "window_display": false
  }
 },
 "nbformat": 4,
 "nbformat_minor": 4
}
